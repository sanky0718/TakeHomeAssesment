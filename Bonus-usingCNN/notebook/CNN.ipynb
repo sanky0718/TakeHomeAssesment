{
 "cells": [
  {
   "cell_type": "code",
   "execution_count": 24,
   "id": "19dd75fc-d626-42eb-9ae0-3bd9b27a1795",
   "metadata": {},
   "outputs": [],
   "source": [
    "import os\n",
    "import numpy as np\n",
    "import pandas as pd\n",
    "import tensorflow as tf\n",
    "from tensorflow.keras.preprocessing.image import ImageDataGenerator\n",
    "from tensorflow.keras.applications.inception_v3 import InceptionV3\n",
    "from tensorflow.keras import layers\n",
    "from tensorflow.keras.models import Model"
   ]
  },
  {
   "cell_type": "code",
   "execution_count": 25,
   "id": "79e834e9-71b0-48c4-a928-844600cd920b",
   "metadata": {},
   "outputs": [],
   "source": [
    "# Load the annotations\n",
    "columns = ['A', 'B', 'C', 'D', 'E','F']\n",
    "train_df = pd.read_csv('../data/train.csv',names = columns)\n",
    "test_df = pd.read_csv('../data/test.csv',names = columns)\n",
    "validation_df = pd.read_csv('../data/valid.csv',names = columns)\n"
   ]
  },
  {
   "cell_type": "code",
   "execution_count": 26,
   "id": "8a921e54-a842-491f-842b-0d09c193427c",
   "metadata": {},
   "outputs": [
    {
     "data": {
      "text/html": [
       "<div>\n",
       "<style scoped>\n",
       "    .dataframe tbody tr th:only-of-type {\n",
       "        vertical-align: middle;\n",
       "    }\n",
       "\n",
       "    .dataframe tbody tr th {\n",
       "        vertical-align: top;\n",
       "    }\n",
       "\n",
       "    .dataframe thead th {\n",
       "        text-align: right;\n",
       "    }\n",
       "</style>\n",
       "<table border=\"1\" class=\"dataframe\">\n",
       "  <thead>\n",
       "    <tr style=\"text-align: right;\">\n",
       "      <th></th>\n",
       "      <th>A</th>\n",
       "      <th>B</th>\n",
       "      <th>C</th>\n",
       "      <th>D</th>\n",
       "      <th>E</th>\n",
       "      <th>F</th>\n",
       "    </tr>\n",
       "  </thead>\n",
       "  <tbody>\n",
       "    <tr>\n",
       "      <th>0</th>\n",
       "      <td>1c64bff45216007f_jpg.rf.00472dc1dcd49262a84274...</td>\n",
       "      <td>45</td>\n",
       "      <td>58</td>\n",
       "      <td>402</td>\n",
       "      <td>355</td>\n",
       "      <td>Truck</td>\n",
       "    </tr>\n",
       "    <tr>\n",
       "      <th>1</th>\n",
       "      <td>b61201eee8903342_jpg.rf.00edd486466508ba478ce7...</td>\n",
       "      <td>216</td>\n",
       "      <td>44</td>\n",
       "      <td>407</td>\n",
       "      <td>378</td>\n",
       "      <td>Bus</td>\n",
       "    </tr>\n",
       "    <tr>\n",
       "      <th>2</th>\n",
       "      <td>b61201eee8903342_jpg.rf.00edd486466508ba478ce7...</td>\n",
       "      <td>44</td>\n",
       "      <td>48</td>\n",
       "      <td>235</td>\n",
       "      <td>356</td>\n",
       "      <td>Bus</td>\n",
       "    </tr>\n",
       "    <tr>\n",
       "      <th>3</th>\n",
       "      <td>bdc6ddcd3b5129bb_jpg.rf.00da54335aeba68b1d59d9...</td>\n",
       "      <td>41</td>\n",
       "      <td>163</td>\n",
       "      <td>155</td>\n",
       "      <td>303</td>\n",
       "      <td>Bus</td>\n",
       "    </tr>\n",
       "    <tr>\n",
       "      <th>4</th>\n",
       "      <td>bdc6ddcd3b5129bb_jpg.rf.00da54335aeba68b1d59d9...</td>\n",
       "      <td>143</td>\n",
       "      <td>136</td>\n",
       "      <td>416</td>\n",
       "      <td>350</td>\n",
       "      <td>Bus</td>\n",
       "    </tr>\n",
       "  </tbody>\n",
       "</table>\n",
       "</div>"
      ],
      "text/plain": [
       "                                                   A    B    C    D    E  \\\n",
       "0  1c64bff45216007f_jpg.rf.00472dc1dcd49262a84274...   45   58  402  355   \n",
       "1  b61201eee8903342_jpg.rf.00edd486466508ba478ce7...  216   44  407  378   \n",
       "2  b61201eee8903342_jpg.rf.00edd486466508ba478ce7...   44   48  235  356   \n",
       "3  bdc6ddcd3b5129bb_jpg.rf.00da54335aeba68b1d59d9...   41  163  155  303   \n",
       "4  bdc6ddcd3b5129bb_jpg.rf.00da54335aeba68b1d59d9...  143  136  416  350   \n",
       "\n",
       "       F  \n",
       "0  Truck  \n",
       "1    Bus  \n",
       "2    Bus  \n",
       "3    Bus  \n",
       "4    Bus  "
      ]
     },
     "execution_count": 26,
     "metadata": {},
     "output_type": "execute_result"
    }
   ],
   "source": [
    "train_df.head()"
   ]
  },
  {
   "cell_type": "code",
   "execution_count": 27,
   "id": "23c010b0-cca8-4578-b845-cc25c2b30fa4",
   "metadata": {},
   "outputs": [
    {
     "data": {
      "text/html": [
       "<div>\n",
       "<style scoped>\n",
       "    .dataframe tbody tr th:only-of-type {\n",
       "        vertical-align: middle;\n",
       "    }\n",
       "\n",
       "    .dataframe tbody tr th {\n",
       "        vertical-align: top;\n",
       "    }\n",
       "\n",
       "    .dataframe thead th {\n",
       "        text-align: right;\n",
       "    }\n",
       "</style>\n",
       "<table border=\"1\" class=\"dataframe\">\n",
       "  <thead>\n",
       "    <tr style=\"text-align: right;\">\n",
       "      <th></th>\n",
       "      <th>A</th>\n",
       "      <th>B</th>\n",
       "      <th>C</th>\n",
       "      <th>D</th>\n",
       "      <th>E</th>\n",
       "      <th>F</th>\n",
       "    </tr>\n",
       "  </thead>\n",
       "  <tbody>\n",
       "    <tr>\n",
       "      <th>0</th>\n",
       "      <td>6e85d4ef31b5eed3_jpg.rf.01ea5ec813abb42ce95665...</td>\n",
       "      <td>0</td>\n",
       "      <td>65</td>\n",
       "      <td>366</td>\n",
       "      <td>385</td>\n",
       "      <td>Car</td>\n",
       "    </tr>\n",
       "    <tr>\n",
       "      <th>1</th>\n",
       "      <td>6e85d4ef31b5eed3_jpg.rf.01ea5ec813abb42ce95665...</td>\n",
       "      <td>362</td>\n",
       "      <td>148</td>\n",
       "      <td>397</td>\n",
       "      <td>205</td>\n",
       "      <td>Car</td>\n",
       "    </tr>\n",
       "    <tr>\n",
       "      <th>2</th>\n",
       "      <td>4ecafc9a0bae8003_jpg.rf.2UbsFgyK4QxCrSNix6wM.jpg</td>\n",
       "      <td>23</td>\n",
       "      <td>72</td>\n",
       "      <td>398</td>\n",
       "      <td>348</td>\n",
       "      <td>Truck</td>\n",
       "    </tr>\n",
       "    <tr>\n",
       "      <th>3</th>\n",
       "      <td>d66aabbb1f7299cc_jpg.rf.27774c8e4188c1c8b62075...</td>\n",
       "      <td>90</td>\n",
       "      <td>102</td>\n",
       "      <td>166</td>\n",
       "      <td>146</td>\n",
       "      <td>Car</td>\n",
       "    </tr>\n",
       "    <tr>\n",
       "      <th>4</th>\n",
       "      <td>d66aabbb1f7299cc_jpg.rf.27774c8e4188c1c8b62075...</td>\n",
       "      <td>116</td>\n",
       "      <td>118</td>\n",
       "      <td>188</td>\n",
       "      <td>146</td>\n",
       "      <td>Car</td>\n",
       "    </tr>\n",
       "  </tbody>\n",
       "</table>\n",
       "</div>"
      ],
      "text/plain": [
       "                                                   A    B    C    D    E  \\\n",
       "0  6e85d4ef31b5eed3_jpg.rf.01ea5ec813abb42ce95665...    0   65  366  385   \n",
       "1  6e85d4ef31b5eed3_jpg.rf.01ea5ec813abb42ce95665...  362  148  397  205   \n",
       "2   4ecafc9a0bae8003_jpg.rf.2UbsFgyK4QxCrSNix6wM.jpg   23   72  398  348   \n",
       "3  d66aabbb1f7299cc_jpg.rf.27774c8e4188c1c8b62075...   90  102  166  146   \n",
       "4  d66aabbb1f7299cc_jpg.rf.27774c8e4188c1c8b62075...  116  118  188  146   \n",
       "\n",
       "       F  \n",
       "0    Car  \n",
       "1    Car  \n",
       "2  Truck  \n",
       "3    Car  \n",
       "4    Car  "
      ]
     },
     "execution_count": 27,
     "metadata": {},
     "output_type": "execute_result"
    }
   ],
   "source": [
    "test_df.head()"
   ]
  },
  {
   "cell_type": "code",
   "execution_count": 28,
   "id": "c60cd9b0-2d2b-4b15-98a4-eaf3df65469e",
   "metadata": {},
   "outputs": [
    {
     "data": {
      "text/html": [
       "<div>\n",
       "<style scoped>\n",
       "    .dataframe tbody tr th:only-of-type {\n",
       "        vertical-align: middle;\n",
       "    }\n",
       "\n",
       "    .dataframe tbody tr th {\n",
       "        vertical-align: top;\n",
       "    }\n",
       "\n",
       "    .dataframe thead th {\n",
       "        text-align: right;\n",
       "    }\n",
       "</style>\n",
       "<table border=\"1\" class=\"dataframe\">\n",
       "  <thead>\n",
       "    <tr style=\"text-align: right;\">\n",
       "      <th></th>\n",
       "      <th>A</th>\n",
       "      <th>B</th>\n",
       "      <th>C</th>\n",
       "      <th>D</th>\n",
       "      <th>E</th>\n",
       "      <th>F</th>\n",
       "    </tr>\n",
       "  </thead>\n",
       "  <tbody>\n",
       "    <tr>\n",
       "      <th>0</th>\n",
       "      <td>ac03aa25bc294ae9_jpg.rf.yhDIMFwNrWa52ylx6Z2I.jpg</td>\n",
       "      <td>68</td>\n",
       "      <td>104</td>\n",
       "      <td>307</td>\n",
       "      <td>332</td>\n",
       "      <td>Ambulance</td>\n",
       "    </tr>\n",
       "    <tr>\n",
       "      <th>1</th>\n",
       "      <td>532953d0fc03d7ac_jpg.rf.zwev1qoVdbZlhhNFG7Do.jpg</td>\n",
       "      <td>0</td>\n",
       "      <td>10</td>\n",
       "      <td>49</td>\n",
       "      <td>50</td>\n",
       "      <td>Car</td>\n",
       "    </tr>\n",
       "    <tr>\n",
       "      <th>2</th>\n",
       "      <td>532953d0fc03d7ac_jpg.rf.zwev1qoVdbZlhhNFG7Do.jpg</td>\n",
       "      <td>30</td>\n",
       "      <td>40</td>\n",
       "      <td>384</td>\n",
       "      <td>348</td>\n",
       "      <td>Car</td>\n",
       "    </tr>\n",
       "    <tr>\n",
       "      <th>3</th>\n",
       "      <td>532953d0fc03d7ac_jpg.rf.zwev1qoVdbZlhhNFG7Do.jpg</td>\n",
       "      <td>216</td>\n",
       "      <td>12</td>\n",
       "      <td>277</td>\n",
       "      <td>47</td>\n",
       "      <td>Car</td>\n",
       "    </tr>\n",
       "    <tr>\n",
       "      <th>4</th>\n",
       "      <td>4a11e1503e4317a1_jpg.rf.xr2mlTpcmvzGODyFyQTf.jpg</td>\n",
       "      <td>36</td>\n",
       "      <td>0</td>\n",
       "      <td>416</td>\n",
       "      <td>415</td>\n",
       "      <td>Bus</td>\n",
       "    </tr>\n",
       "  </tbody>\n",
       "</table>\n",
       "</div>"
      ],
      "text/plain": [
       "                                                  A    B    C    D    E  \\\n",
       "0  ac03aa25bc294ae9_jpg.rf.yhDIMFwNrWa52ylx6Z2I.jpg   68  104  307  332   \n",
       "1  532953d0fc03d7ac_jpg.rf.zwev1qoVdbZlhhNFG7Do.jpg    0   10   49   50   \n",
       "2  532953d0fc03d7ac_jpg.rf.zwev1qoVdbZlhhNFG7Do.jpg   30   40  384  348   \n",
       "3  532953d0fc03d7ac_jpg.rf.zwev1qoVdbZlhhNFG7Do.jpg  216   12  277   47   \n",
       "4  4a11e1503e4317a1_jpg.rf.xr2mlTpcmvzGODyFyQTf.jpg   36    0  416  415   \n",
       "\n",
       "           F  \n",
       "0  Ambulance  \n",
       "1        Car  \n",
       "2        Car  \n",
       "3        Car  \n",
       "4        Bus  "
      ]
     },
     "execution_count": 28,
     "metadata": {},
     "output_type": "execute_result"
    }
   ],
   "source": [
    "validation_df.head()"
   ]
  },
  {
   "cell_type": "code",
   "execution_count": 29,
   "id": "363e2f9d-04d6-4048-a7d0-67bbe8836319",
   "metadata": {},
   "outputs": [
    {
     "name": "stdout",
     "output_type": "stream",
     "text": [
      "Found 1676 validated image filenames belonging to 5 classes.\n",
      "Found 454 validated image filenames belonging to 5 classes.\n",
      "Found 258 validated image filenames belonging to 5 classes.\n"
     ]
    }
   ],
   "source": [
    "# Base directory for your dataset\n",
    "base_dir = '../data'\n",
    "\n",
    "# Adjust these paths based on your directory structure\n",
    "train_dir = os.path.join(base_dir, 'train')\n",
    "validation_dir = os.path.join(base_dir, 'valid')\n",
    "test_dir = os.path.join(base_dir, 'test')\n",
    "\n",
    "# Load CSV files\n",
    "train_df = pd.read_csv(os.path.join(base_dir, 'train.csv'), names=['filename', 'x_min', 'y_min', 'x_max', 'y_max', 'label'])\n",
    "validation_df = pd.read_csv(os.path.join(base_dir, 'valid.csv'), names=['filename', 'x_min', 'y_min', 'x_max', 'y_max', 'label'])\n",
    "test_df = pd.read_csv(os.path.join(base_dir, 'test.csv'), names=['filename', 'x_min', 'y_min', 'x_max', 'y_max', 'label'])\n",
    "\n",
    "# Preprocessing function for Inception v3\n",
    "preprocess_input = tf.keras.applications.inception_v3.preprocess_input\n",
    "\n",
    "# Data generators\n",
    "train_datagen = ImageDataGenerator(preprocessing_function=preprocess_input)\n",
    "validation_datagen = ImageDataGenerator(preprocessing_function=preprocess_input)\n",
    "test_datagen = ImageDataGenerator(preprocessing_function=preprocess_input)\n",
    "\n",
    "# Adjust batch size according to your system's capability\n",
    "batch_size = 32\n",
    "\n",
    "train_generator = train_datagen.flow_from_dataframe(\n",
    "    dataframe=train_df,\n",
    "    directory=train_dir,\n",
    "    x_col='filename',\n",
    "    y_col='label',\n",
    "    target_size=(416, 416),\n",
    "    batch_size=batch_size,\n",
    "    class_mode='categorical')\n",
    "\n",
    "validation_generator = validation_datagen.flow_from_dataframe(\n",
    "    dataframe=validation_df,\n",
    "    directory=validation_dir,\n",
    "    x_col='filename',\n",
    "    y_col='label',\n",
    "    target_size=(416, 416),\n",
    "    batch_size=batch_size,\n",
    "    class_mode='categorical')\n",
    "\n",
    "test_generator = test_datagen.flow_from_dataframe(\n",
    "    dataframe=test_df,\n",
    "    directory=test_dir,\n",
    "    x_col='filename',\n",
    "    y_col='label',\n",
    "    target_size=(416, 416),\n",
    "    batch_size=batch_size,\n",
    "    class_mode='categorical')\n"
   ]
  },
  {
   "cell_type": "code",
   "execution_count": 35,
   "id": "5ef53b13-faac-4b85-a92a-11066b8c4f92",
   "metadata": {},
   "outputs": [
    {
     "name": "stderr",
     "output_type": "stream",
     "text": [
      "/var/folders/4k/gdz1h9lx32zg806p1cylzsw00000gn/T/ipykernel_5069/1993301932.py:1: DeprecationWarning: `import kerastuner` is deprecated, please use `import keras_tuner`.\n",
      "  from kerastuner import HyperModel\n"
     ]
    }
   ],
   "source": [
    "from kerastuner import HyperModel\n",
    "from tensorflow.keras.applications.inception_v3 import InceptionV3\n",
    "from tensorflow.keras.layers import Dense, GlobalAveragePooling2D, Dropout\n",
    "from tensorflow.keras.models import Model\n",
    "\n",
    "class MyHyperModel(HyperModel):\n",
    "    def __init__(self, num_classes):\n",
    "        self.num_classes = num_classes\n",
    "\n",
    "    def build(self, hp):\n",
    "        # Load the InceptionV3 model\n",
    "        base_model = InceptionV3(input_shape=(416, 416, 3), include_top=False, weights='imagenet', pooling='avg')\n",
    "        base_model.trainable = False\n",
    "\n",
    "        # Hyperparameters to tune\n",
    "        units = hp.Int('units', min_value=32, max_value=512, step=32)\n",
    "        dropout_rate = hp.Float('dropout_rate', min_value=0, max_value=0.5, step=0.1)\n",
    "        learning_rate = hp.Float('learning_rate', min_value=1e-4, max_value=1e-2, sampling='LOG')\n",
    "\n",
    "        # Building the model\n",
    "        x = base_model.output\n",
    "        x = Dense(units, activation='relu')(x)\n",
    "        x = Dropout(dropout_rate)(x)  # Add a dropout layer\n",
    "        predictions = Dense(self.num_classes, activation='softmax')(x)\n",
    "        model = Model(inputs=base_model.input, outputs=predictions)\n",
    "\n",
    "        # Compile the model\n",
    "        model.compile(optimizer=tf.keras.optimizers.Adam(learning_rate=learning_rate),\n",
    "                      loss='categorical_crossentropy',\n",
    "                      metrics=['accuracy'])\n",
    "        return model\n"
   ]
  },
  {
   "cell_type": "code",
   "execution_count": null,
   "id": "2d89ed11-746f-4a61-9ec8-8ef3cd0aeff9",
   "metadata": {},
   "outputs": [],
   "source": []
  },
  {
   "cell_type": "code",
   "execution_count": 37,
   "id": "d4bae29f-0119-4fc1-a9f9-530c67e4c54f",
   "metadata": {},
   "outputs": [
    {
     "name": "stdout",
     "output_type": "stream",
     "text": [
      "Trial 30 Complete [00h 28m 33s]\n",
      "val_accuracy: 0.8303571343421936\n",
      "\n",
      "Best val_accuracy So Far: 0.8526785969734192\n",
      "Total elapsed time: 06h 05m 43s\n"
     ]
    }
   ],
   "source": [
    "from kerastuner.tuners import Hyperband\n",
    "\n",
    "hypermodel = MyHyperModel(num_classes)\n",
    "\n",
    "tuner = Hyperband(\n",
    "    hypermodel,\n",
    "    objective='val_accuracy',\n",
    "    max_epochs=10,\n",
    "    directory='my_dir',  # Directory to save the search logs\n",
    "    project_name='vehicle_classification')\n",
    "\n",
    "# Early stopping to prevent overfitting\n",
    "stop_early = tf.keras.callbacks.EarlyStopping(monitor='val_loss', patience=5)\n",
    "\n",
    "# Start the search\n",
    "tuner.search(train_generator,\n",
    "             steps_per_epoch=steps_per_epoch,\n",
    "             epochs=10,\n",
    "             validation_data=validation_generator,\n",
    "             validation_steps=validation_steps,\n",
    "             callbacks=[stop_early])\n"
   ]
  },
  {
   "cell_type": "code",
   "execution_count": 38,
   "id": "52ae7225-3fd2-45c5-8665-a397869ab14b",
   "metadata": {},
   "outputs": [
    {
     "name": "stdout",
     "output_type": "stream",
     "text": [
      "9/9 [==============================] - 24s 3s/step - loss: 0.3392 - accuracy: 0.8837\n"
     ]
    },
    {
     "data": {
      "text/plain": [
       "[0.3392336964607239, 0.8837209343910217]"
      ]
     },
     "execution_count": 38,
     "metadata": {},
     "output_type": "execute_result"
    }
   ],
   "source": [
    "# Get the best model\n",
    "best_model = tuner.get_best_models(num_models=1)[0]\n",
    "\n",
    "# Evaluate the best model\n",
    "best_model.evaluate(test_generator)\n"
   ]
  },
  {
   "cell_type": "code",
   "execution_count": 40,
   "id": "ad554ea2-1984-4c02-9268-837998129c00",
   "metadata": {},
   "outputs": [
    {
     "name": "stderr",
     "output_type": "stream",
     "text": [
      "/opt/anaconda3/envs/vehicle/lib/python3.11/site-packages/keras/src/engine/training.py:3103: UserWarning: You are saving your model as an HDF5 file via `model.save()`. This file format is considered legacy. We recommend using instead the native Keras format, e.g. `model.save('my_model.keras')`.\n",
      "  saving_api.save_model(\n"
     ]
    }
   ],
   "source": [
    "best_model.save('model1.h5')"
   ]
  },
  {
   "cell_type": "code",
   "execution_count": 41,
   "id": "bf4a0999-76c5-4656-9862-d6430b3b5580",
   "metadata": {},
   "outputs": [],
   "source": [
    "best_model.save('my_model1.keras')"
   ]
  },
  {
   "cell_type": "code",
   "execution_count": 44,
   "id": "2bf695bc-7afa-4762-9bd3-0389b2e86f35",
   "metadata": {},
   "outputs": [
    {
     "name": "stdout",
     "output_type": "stream",
     "text": [
      "Best Hyperparameters: {'units': 128, 'dropout_rate': 0.1, 'learning_rate': 0.0023327793733607717, 'tuner/epochs': 2, 'tuner/initial_epoch': 0, 'tuner/bracket': 2, 'tuner/round': 0}\n"
     ]
    }
   ],
   "source": [
    "# Get the best trial\n",
    "best_trial = tuner.oracle.get_best_trials(num_trials=1)[0]\n",
    "\n",
    "# Get the best hyperparameters\n",
    "best_hyperparameters = best_trial.hyperparameters.values\n",
    "print(\"Best Hyperparameters:\", best_hyperparameters)\n"
   ]
  },
  {
   "cell_type": "code",
   "execution_count": null,
   "id": "c3e70cb5-a512-41ca-9cae-7951d6244489",
   "metadata": {},
   "outputs": [],
   "source": []
  }
 ],
 "metadata": {
  "kernelspec": {
   "display_name": "Python 3 (ipykernel)",
   "language": "python",
   "name": "python3"
  },
  "language_info": {
   "codemirror_mode": {
    "name": "ipython",
    "version": 3
   },
   "file_extension": ".py",
   "mimetype": "text/x-python",
   "name": "python",
   "nbconvert_exporter": "python",
   "pygments_lexer": "ipython3",
   "version": "3.11.5"
  }
 },
 "nbformat": 4,
 "nbformat_minor": 5
}
